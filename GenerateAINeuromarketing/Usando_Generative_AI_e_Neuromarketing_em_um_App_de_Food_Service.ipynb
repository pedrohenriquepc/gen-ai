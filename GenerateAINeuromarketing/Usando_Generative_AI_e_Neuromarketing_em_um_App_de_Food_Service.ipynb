{
  "metadata": {
    "kernelspec": {
      "language": "python",
      "display_name": "Python 3",
      "name": "python3"
    },
    "language_info": {
      "pygments_lexer": "ipython3",
      "nbconvert_exporter": "python",
      "version": "3.6.4",
      "file_extension": ".py",
      "codemirror_mode": {
        "name": "ipython",
        "version": 3
      },
      "name": "python",
      "mimetype": "text/x-python"
    },
    "colab": {
      "provenance": []
    }
  },
  "nbformat_minor": 0,
  "nbformat": 4,
  "cells": [
    {
      "cell_type": "markdown",
      "source": [
        "# **Projeto: Usando Generative AI e Neuromarketing em um App de Food Service**\n",
        "\n",
        "**Autor**: Pedro Henrique Pedroso da Cruz\n",
        "\n",
        "Este *notebook* contém exemplos de código para casos de Usos de Food Service com Generative AI, utilizando modelo Open AI.\n",
        "\n",
        "O notebook fornece exemplo simple sobre casos de uso de re-criar descrição de menu utilizando Open AI com auxilio de Neuromarketing.\n",
        "\n",
        "O código a seguir não é apropriado para um ambiente de produção, sendo meramente um exemplo de uso de Gen AI."
      ],
      "metadata": {
        "id": "qUTnUpMMmLk5"
      }
    },
    {
      "cell_type": "markdown",
      "source": [
        "# Casos de Uso\n",
        "Assistente para:\n",
        "\n",
        "**Criar Descrição de Pratos para Menus**: Geração de descrição de Pratos com Neuromarketing\n",
        "\n",
        "\n",
        "\n"
      ],
      "metadata": {
        "id": "JIQHYbi6o8To"
      }
    },
    {
      "cell_type": "markdown",
      "source": [
        "# **Setup Ambiente**"
      ],
      "metadata": {
        "id": "kmIpm72mEBQ8"
      }
    },
    {
      "cell_type": "markdown",
      "source": [
        "# Instalando Pacotes\n"
      ],
      "metadata": {
        "id": "oyTie1mVmLk6"
      }
    },
    {
      "cell_type": "code",
      "source": [
        "!pip install openai==0.28\n"
      ],
      "metadata": {
        "scrolled": true,
        "execution": {
          "iopub.status.busy": "2023-07-21T15:06:34.660555Z",
          "iopub.execute_input": "2023-07-21T15:06:34.66125Z",
          "iopub.status.idle": "2023-07-21T15:11:19.380417Z",
          "shell.execute_reply.started": "2023-07-21T15:06:34.661212Z",
          "shell.execute_reply": "2023-07-21T15:11:19.378202Z"
        },
        "trusted": true,
        "id": "OYhhv247mLk6",
        "colab": {
          "base_uri": "https://localhost:8080/"
        },
        "outputId": "05407baa-5952-44fc-d65e-b5bc915da03d"
      },
      "execution_count": null,
      "outputs": [
        {
          "output_type": "stream",
          "name": "stdout",
          "text": [
            "Collecting openai==0.28\n",
            "  Downloading openai-0.28.0-py3-none-any.whl (76 kB)\n",
            "\u001b[?25l     \u001b[90m━━━━━━━━━━━━━━━━━━━━━━━━━━━━━━━━━━━━━━━━\u001b[0m \u001b[32m0.0/76.5 kB\u001b[0m \u001b[31m?\u001b[0m eta \u001b[36m-:--:--\u001b[0m\r\u001b[2K     \u001b[90m━━━━━━━━━━━━━━━━━━━━━━━━━━━━━━━━━━━━━━━━\u001b[0m \u001b[32m76.5/76.5 kB\u001b[0m \u001b[31m2.2 MB/s\u001b[0m eta \u001b[36m0:00:00\u001b[0m\n",
            "\u001b[?25hRequirement already satisfied: requests>=2.20 in /usr/local/lib/python3.10/dist-packages (from openai==0.28) (2.31.0)\n",
            "Requirement already satisfied: tqdm in /usr/local/lib/python3.10/dist-packages (from openai==0.28) (4.66.4)\n",
            "Requirement already satisfied: aiohttp in /usr/local/lib/python3.10/dist-packages (from openai==0.28) (3.9.5)\n",
            "Requirement already satisfied: charset-normalizer<4,>=2 in /usr/local/lib/python3.10/dist-packages (from requests>=2.20->openai==0.28) (3.3.2)\n",
            "Requirement already satisfied: idna<4,>=2.5 in /usr/local/lib/python3.10/dist-packages (from requests>=2.20->openai==0.28) (3.7)\n",
            "Requirement already satisfied: urllib3<3,>=1.21.1 in /usr/local/lib/python3.10/dist-packages (from requests>=2.20->openai==0.28) (2.0.7)\n",
            "Requirement already satisfied: certifi>=2017.4.17 in /usr/local/lib/python3.10/dist-packages (from requests>=2.20->openai==0.28) (2024.7.4)\n",
            "Requirement already satisfied: aiosignal>=1.1.2 in /usr/local/lib/python3.10/dist-packages (from aiohttp->openai==0.28) (1.3.1)\n",
            "Requirement already satisfied: attrs>=17.3.0 in /usr/local/lib/python3.10/dist-packages (from aiohttp->openai==0.28) (23.2.0)\n",
            "Requirement already satisfied: frozenlist>=1.1.1 in /usr/local/lib/python3.10/dist-packages (from aiohttp->openai==0.28) (1.4.1)\n",
            "Requirement already satisfied: multidict<7.0,>=4.5 in /usr/local/lib/python3.10/dist-packages (from aiohttp->openai==0.28) (6.0.5)\n",
            "Requirement already satisfied: yarl<2.0,>=1.0 in /usr/local/lib/python3.10/dist-packages (from aiohttp->openai==0.28) (1.9.4)\n",
            "Requirement already satisfied: async-timeout<5.0,>=4.0 in /usr/local/lib/python3.10/dist-packages (from aiohttp->openai==0.28) (4.0.3)\n",
            "Installing collected packages: openai\n",
            "Successfully installed openai-0.28.0\n"
          ]
        }
      ]
    },
    {
      "cell_type": "markdown",
      "source": [
        "# Exemplo Código\n",
        "\n",
        "# Caso de Uso I\n",
        "\n",
        "#Assistente para criar descrição de Menu: Neuromarketing"
      ],
      "metadata": {
        "id": "jZKIRarLmLk6"
      }
    },
    {
      "cell_type": "code",
      "source": [
        "import openai\n",
        "\n",
        "# Configurar a API Key\n",
        "openai.api_key = 'inserir-sua-chave-api-openai-aqui'\n",
        "\n",
        "def gerar_descricao_prato(prato, publico_alvo):\n",
        "    \"\"\"\n",
        "    Gera uma descrição de prato utilizando Generative AI com princípios de neuromarketing.\n",
        "\n",
        "    Parameters\n",
        "    ----------\n",
        "    prato : str\n",
        "        Nome do prato para o qual deseja gerar a descrição.\n",
        "    publico_alvo : str\n",
        "        Público-alvo para o qual a descrição deve ser otimizada.\n",
        "\n",
        "    Returns\n",
        "    -------\n",
        "    str\n",
        "        Descrição gerada pela API da OpenAI para o prato, otimizada para o público-alvo especificado.\n",
        "    \"\"\"\n",
        "    prompt = f\"Crie uma descrição atrativa para o prato {prato} para o público-alvo: {publico_alvo}, utilizando princípios de neuromarketing, com até 3 sentenças.\"\n",
        "\n",
        "    try:\n",
        "        response = openai.ChatCompletion.create(\n",
        "            model=\"gpt-3.5-turbo\",\n",
        "            messages=[\n",
        "                {\"role\": \"system\", \"content\": \"Você é um especialista em marketing gastronômico.\"},\n",
        "                {\"role\": \"user\", \"content\": prompt}\n",
        "            ],\n",
        "            max_tokens=150\n",
        "        )\n",
        "        return response['choices'][0]['message']['content'].strip()\n",
        "    except openai.error.OpenAIError as e:\n",
        "        return f\"Erro na API da OpenAI: {e}\"\n",
        "    except Exception as e:\n",
        "        return f\"Erro inesperado: {e}\"\n",
        "\n",
        "# Exemplo de uso\n",
        "prato = \"strogonoff\"\n",
        "publico_alvo_jovens = \"jovens de 15 a 25 anos\"\n",
        "publico_alvo_adultos = \"adultos que comiam strogonoff na infância\"\n",
        "publico_alvo_veganos = \"pessoas veganas que gostam de strogonoff\"\n",
        "publico_alvo_fitness = \"pessoas fitness buscando redução de peso que gostam de strogonoff\"\n",
        "\n",
        "descricao_jovens = gerar_descricao_prato(prato, publico_alvo_jovens)\n",
        "descricao_adultos = gerar_descricao_prato(prato, publico_alvo_adultos)\n",
        "descricao_veganos = gerar_descricao_prato(prato, publico_alvo_veganos)\n",
        "descricao_fitness = gerar_descricao_prato(prato, publico_alvo_fitness)\n",
        "\n",
        "print(f\"Para jovens de 15 a 25 anos: {descricao_jovens}\")\n",
        "print(f\"Para adultos: {descricao_adultos}\")\n",
        "print(f\"Para pessoas veganas: {descricao_veganos}\")\n",
        "print(f\"Para pessoas fitness: {descricao_fitness}\")"
      ],
      "metadata": {
        "colab": {
          "base_uri": "https://localhost:8080/"
        },
        "id": "Ain--qk7NNR8",
        "outputId": "08fef12e-7510-49f1-d9be-eaa7a9891268"
      },
      "execution_count": null,
      "outputs": [
        {
          "output_type": "stream",
          "name": "stdout",
          "text": [
            "Para jovens de 15 a 25 anos: Delicioso Strogonoff: Uma explosão de sabores que vai conquistar o seu paladar, proporcionando uma experiência única e irresistível. Com sua textura cremosa e aroma envolvente, o Strogonoff é perfeito para os momentos de descontração e confraternização entre amigos. Experimente e deixe-se levar por uma perfeita combinação de ingredientes que vão te fazer querer mais a cada garfada.\n",
            "Para adultos: Reviva a nostalgia da sua infância com nosso irresistível Strogonoff, com um molho cremoso e sabor marcante que desperta memórias afetivas. Saboreie cada pedaço de carne macia e suculenta, envolto em um mix de temperos cuidadosamente equilibrado. Uma explosão de sabores que te transporta diretamente para aqueles momentos especiais ao redor da mesa com a família. Delicie-se com o Strogonoff e mergulhe em uma experiência gastronômica que é pura emoção e prazer!\n",
            "Para pessoas veganas: Experimente uma deliciosa e sustentável versão vegana do clássico strogonoff. Feito com ingredientes frescos e de origem vegetal, este prato irá satisfazer seus desejos gastronômicos sem prejudicar nenhum animal. Permita-se desfrutar de todo o sabor e cremosidade que você ama, de forma ética e consciente.\n",
            "Para pessoas fitness: \"Desfrute de todo o sabor e cremosidade do tradicional strogonoff, agora em uma versão fitness e equilibrada, perfeita para quem busca manter a forma sem abrir mão do prazer à mesa. Com ingredientes selecionados e preparo especial, esse strogonoff fit vai conquistar seu paladar sem sabotar seus resultados na busca pela redução de peso.\"\n"
          ]
        }
      ]
    }
  ]
}